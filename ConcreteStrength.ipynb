{
 "cells": [
  {
   "cell_type": "markdown",
   "metadata": {
    "id": "CgPkafcBClHA"
   },
   "source": [
    "#Importing Libraries"
   ]
  },
  {
   "cell_type": "code",
   "execution_count": 1,
   "metadata": {
    "id": "NipDpuvkCmi6"
   },
   "outputs": [],
   "source": [
    "import pandas as pd\n",
    "import numpy as np\n",
    "import matplotlib.pyplot as plt"
   ]
  },
  {
   "cell_type": "markdown",
   "metadata": {
    "id": "UxC9ci-KDQoW"
   },
   "source": [
    "#Uploading Datasets"
   ]
  },
  {
   "cell_type": "code",
   "execution_count": 2,
   "metadata": {
    "id": "B_vpinNiCxTc"
   },
   "outputs": [],
   "source": [
    "data=pd.read_csv(\"compresive_strength_concrete.csv\")"
   ]
  },
  {
   "cell_type": "code",
   "execution_count": 3,
   "metadata": {
    "colab": {
     "base_uri": "https://localhost:8080/"
    },
    "id": "VcJwnsAHIgRW",
    "outputId": "ae5e6e22-0e87-46ca-b520-c9336626e6df"
   },
   "outputs": [
    {
     "data": {
      "text/plain": [
       "(1030, 9)"
      ]
     },
     "execution_count": 3,
     "metadata": {},
     "output_type": "execute_result"
    }
   ],
   "source": [
    "data.shape"
   ]
  },
  {
   "cell_type": "code",
   "execution_count": 4,
   "metadata": {
    "colab": {
     "base_uri": "https://localhost:8080/",
     "height": 326
    },
    "id": "U0yFP1M6Ikh-",
    "outputId": "769d5d3e-3100-4b3a-b009-cc08487e88a3"
   },
   "outputs": [
    {
     "data": {
      "text/html": [
       "<div>\n",
       "<style scoped>\n",
       "    .dataframe tbody tr th:only-of-type {\n",
       "        vertical-align: middle;\n",
       "    }\n",
       "\n",
       "    .dataframe tbody tr th {\n",
       "        vertical-align: top;\n",
       "    }\n",
       "\n",
       "    .dataframe thead th {\n",
       "        text-align: right;\n",
       "    }\n",
       "</style>\n",
       "<table border=\"1\" class=\"dataframe\">\n",
       "  <thead>\n",
       "    <tr style=\"text-align: right;\">\n",
       "      <th></th>\n",
       "      <th>Cement (component 1)(kg in a m^3 mixture)</th>\n",
       "      <th>Blast Furnace Slag (component 2)(kg in a m^3 mixture)</th>\n",
       "      <th>Fly Ash (component 3)(kg in a m^3 mixture)</th>\n",
       "      <th>Water  (component 4)(kg in a m^3 mixture)</th>\n",
       "      <th>Superplasticizer (component 5)(kg in a m^3 mixture)</th>\n",
       "      <th>Coarse Aggregate  (component 6)(kg in a m^3 mixture)</th>\n",
       "      <th>Fine Aggregate (component 7)(kg in a m^3 mixture)</th>\n",
       "      <th>Age (day)</th>\n",
       "      <th>Concrete compressive strength(MPa, megapascals)</th>\n",
       "    </tr>\n",
       "  </thead>\n",
       "  <tbody>\n",
       "    <tr>\n",
       "      <th>0</th>\n",
       "      <td>540.0</td>\n",
       "      <td>0.0</td>\n",
       "      <td>0.0</td>\n",
       "      <td>162.0</td>\n",
       "      <td>2.5</td>\n",
       "      <td>1040.0</td>\n",
       "      <td>676.0</td>\n",
       "      <td>28</td>\n",
       "      <td>79.99</td>\n",
       "    </tr>\n",
       "    <tr>\n",
       "      <th>1</th>\n",
       "      <td>540.0</td>\n",
       "      <td>0.0</td>\n",
       "      <td>0.0</td>\n",
       "      <td>162.0</td>\n",
       "      <td>2.5</td>\n",
       "      <td>1055.0</td>\n",
       "      <td>676.0</td>\n",
       "      <td>28</td>\n",
       "      <td>61.89</td>\n",
       "    </tr>\n",
       "    <tr>\n",
       "      <th>2</th>\n",
       "      <td>332.5</td>\n",
       "      <td>142.5</td>\n",
       "      <td>0.0</td>\n",
       "      <td>228.0</td>\n",
       "      <td>0.0</td>\n",
       "      <td>932.0</td>\n",
       "      <td>594.0</td>\n",
       "      <td>270</td>\n",
       "      <td>40.27</td>\n",
       "    </tr>\n",
       "    <tr>\n",
       "      <th>3</th>\n",
       "      <td>332.5</td>\n",
       "      <td>142.5</td>\n",
       "      <td>0.0</td>\n",
       "      <td>228.0</td>\n",
       "      <td>0.0</td>\n",
       "      <td>932.0</td>\n",
       "      <td>594.0</td>\n",
       "      <td>365</td>\n",
       "      <td>41.05</td>\n",
       "    </tr>\n",
       "    <tr>\n",
       "      <th>4</th>\n",
       "      <td>198.6</td>\n",
       "      <td>132.4</td>\n",
       "      <td>0.0</td>\n",
       "      <td>192.0</td>\n",
       "      <td>0.0</td>\n",
       "      <td>978.4</td>\n",
       "      <td>825.5</td>\n",
       "      <td>360</td>\n",
       "      <td>44.30</td>\n",
       "    </tr>\n",
       "  </tbody>\n",
       "</table>\n",
       "</div>"
      ],
      "text/plain": [
       "   Cement (component 1)(kg in a m^3 mixture)  \\\n",
       "0                                      540.0   \n",
       "1                                      540.0   \n",
       "2                                      332.5   \n",
       "3                                      332.5   \n",
       "4                                      198.6   \n",
       "\n",
       "   Blast Furnace Slag (component 2)(kg in a m^3 mixture)  \\\n",
       "0                                                0.0       \n",
       "1                                                0.0       \n",
       "2                                              142.5       \n",
       "3                                              142.5       \n",
       "4                                              132.4       \n",
       "\n",
       "   Fly Ash (component 3)(kg in a m^3 mixture)  \\\n",
       "0                                         0.0   \n",
       "1                                         0.0   \n",
       "2                                         0.0   \n",
       "3                                         0.0   \n",
       "4                                         0.0   \n",
       "\n",
       "   Water  (component 4)(kg in a m^3 mixture)  \\\n",
       "0                                      162.0   \n",
       "1                                      162.0   \n",
       "2                                      228.0   \n",
       "3                                      228.0   \n",
       "4                                      192.0   \n",
       "\n",
       "   Superplasticizer (component 5)(kg in a m^3 mixture)  \\\n",
       "0                                                2.5     \n",
       "1                                                2.5     \n",
       "2                                                0.0     \n",
       "3                                                0.0     \n",
       "4                                                0.0     \n",
       "\n",
       "   Coarse Aggregate  (component 6)(kg in a m^3 mixture)  \\\n",
       "0                                             1040.0      \n",
       "1                                             1055.0      \n",
       "2                                              932.0      \n",
       "3                                              932.0      \n",
       "4                                              978.4      \n",
       "\n",
       "   Fine Aggregate (component 7)(kg in a m^3 mixture)  Age (day)  \\\n",
       "0                                              676.0         28   \n",
       "1                                              676.0         28   \n",
       "2                                              594.0        270   \n",
       "3                                              594.0        365   \n",
       "4                                              825.5        360   \n",
       "\n",
       "   Concrete compressive strength(MPa, megapascals)   \n",
       "0                                             79.99  \n",
       "1                                             61.89  \n",
       "2                                             40.27  \n",
       "3                                             41.05  \n",
       "4                                             44.30  "
      ]
     },
     "execution_count": 4,
     "metadata": {},
     "output_type": "execute_result"
    }
   ],
   "source": [
    "data.head()"
   ]
  },
  {
   "cell_type": "code",
   "execution_count": 5,
   "metadata": {},
   "outputs": [
    {
     "data": {
      "text/plain": [
       "Cement (component 1)(kg in a m^3 mixture)                0\n",
       "Blast Furnace Slag (component 2)(kg in a m^3 mixture)    0\n",
       "Fly Ash (component 3)(kg in a m^3 mixture)               0\n",
       "Water  (component 4)(kg in a m^3 mixture)                0\n",
       "Superplasticizer (component 5)(kg in a m^3 mixture)      0\n",
       "Coarse Aggregate  (component 6)(kg in a m^3 mixture)     0\n",
       "Fine Aggregate (component 7)(kg in a m^3 mixture)        0\n",
       "Age (day)                                                0\n",
       "Concrete compressive strength(MPa, megapascals)          0\n",
       "dtype: int64"
      ]
     },
     "execution_count": 5,
     "metadata": {},
     "output_type": "execute_result"
    }
   ],
   "source": [
    "data.isnull().sum()"
   ]
  },
  {
   "cell_type": "code",
   "execution_count": 6,
   "metadata": {},
   "outputs": [
    {
     "data": {
      "text/plain": [
       "(array([], dtype=int64), array([], dtype=int64))"
      ]
     },
     "execution_count": 6,
     "metadata": {},
     "output_type": "execute_result"
    }
   ],
   "source": [
    "np.where(data.applymap(lambda x: x == ''))"
   ]
  },
  {
   "cell_type": "code",
   "execution_count": null,
   "metadata": {},
   "outputs": [],
   "source": []
  },
  {
   "cell_type": "code",
   "execution_count": 7,
   "metadata": {},
   "outputs": [],
   "source": [
    "X_train = data.sample(frac = 0.7, random_state = 123)\n",
    "X_test = data.drop(X_train.index)"
   ]
  },
  {
   "cell_type": "code",
   "execution_count": 8,
   "metadata": {},
   "outputs": [
    {
     "data": {
      "text/html": [
       "<div>\n",
       "<style scoped>\n",
       "    .dataframe tbody tr th:only-of-type {\n",
       "        vertical-align: middle;\n",
       "    }\n",
       "\n",
       "    .dataframe tbody tr th {\n",
       "        vertical-align: top;\n",
       "    }\n",
       "\n",
       "    .dataframe thead th {\n",
       "        text-align: right;\n",
       "    }\n",
       "</style>\n",
       "<table border=\"1\" class=\"dataframe\">\n",
       "  <thead>\n",
       "    <tr style=\"text-align: right;\">\n",
       "      <th></th>\n",
       "      <th>Cement (component 1)(kg in a m^3 mixture)</th>\n",
       "      <th>Blast Furnace Slag (component 2)(kg in a m^3 mixture)</th>\n",
       "      <th>Fly Ash (component 3)(kg in a m^3 mixture)</th>\n",
       "      <th>Water  (component 4)(kg in a m^3 mixture)</th>\n",
       "      <th>Superplasticizer (component 5)(kg in a m^3 mixture)</th>\n",
       "      <th>Coarse Aggregate  (component 6)(kg in a m^3 mixture)</th>\n",
       "      <th>Fine Aggregate (component 7)(kg in a m^3 mixture)</th>\n",
       "      <th>Age (day)</th>\n",
       "      <th>Concrete compressive strength(MPa, megapascals)</th>\n",
       "    </tr>\n",
       "  </thead>\n",
       "  <tbody>\n",
       "    <tr>\n",
       "      <th>134</th>\n",
       "      <td>362.6</td>\n",
       "      <td>189.0</td>\n",
       "      <td>0.0</td>\n",
       "      <td>164.9</td>\n",
       "      <td>11.6</td>\n",
       "      <td>944.7</td>\n",
       "      <td>755.8</td>\n",
       "      <td>28</td>\n",
       "      <td>71.30</td>\n",
       "    </tr>\n",
       "    <tr>\n",
       "      <th>13</th>\n",
       "      <td>190.0</td>\n",
       "      <td>190.0</td>\n",
       "      <td>0.0</td>\n",
       "      <td>228.0</td>\n",
       "      <td>0.0</td>\n",
       "      <td>932.0</td>\n",
       "      <td>670.0</td>\n",
       "      <td>90</td>\n",
       "      <td>42.33</td>\n",
       "    </tr>\n",
       "    <tr>\n",
       "      <th>996</th>\n",
       "      <td>152.6</td>\n",
       "      <td>238.7</td>\n",
       "      <td>0.0</td>\n",
       "      <td>200.0</td>\n",
       "      <td>6.3</td>\n",
       "      <td>1001.8</td>\n",
       "      <td>683.9</td>\n",
       "      <td>28</td>\n",
       "      <td>26.86</td>\n",
       "    </tr>\n",
       "    <tr>\n",
       "      <th>770</th>\n",
       "      <td>349.0</td>\n",
       "      <td>0.0</td>\n",
       "      <td>0.0</td>\n",
       "      <td>192.0</td>\n",
       "      <td>0.0</td>\n",
       "      <td>1047.0</td>\n",
       "      <td>806.0</td>\n",
       "      <td>3</td>\n",
       "      <td>14.99</td>\n",
       "    </tr>\n",
       "    <tr>\n",
       "      <th>937</th>\n",
       "      <td>313.3</td>\n",
       "      <td>0.0</td>\n",
       "      <td>113.0</td>\n",
       "      <td>178.5</td>\n",
       "      <td>8.0</td>\n",
       "      <td>1001.9</td>\n",
       "      <td>688.7</td>\n",
       "      <td>28</td>\n",
       "      <td>36.80</td>\n",
       "    </tr>\n",
       "  </tbody>\n",
       "</table>\n",
       "</div>"
      ],
      "text/plain": [
       "     Cement (component 1)(kg in a m^3 mixture)  \\\n",
       "134                                      362.6   \n",
       "13                                       190.0   \n",
       "996                                      152.6   \n",
       "770                                      349.0   \n",
       "937                                      313.3   \n",
       "\n",
       "     Blast Furnace Slag (component 2)(kg in a m^3 mixture)  \\\n",
       "134                                              189.0       \n",
       "13                                               190.0       \n",
       "996                                              238.7       \n",
       "770                                                0.0       \n",
       "937                                                0.0       \n",
       "\n",
       "     Fly Ash (component 3)(kg in a m^3 mixture)  \\\n",
       "134                                         0.0   \n",
       "13                                          0.0   \n",
       "996                                         0.0   \n",
       "770                                         0.0   \n",
       "937                                       113.0   \n",
       "\n",
       "     Water  (component 4)(kg in a m^3 mixture)  \\\n",
       "134                                      164.9   \n",
       "13                                       228.0   \n",
       "996                                      200.0   \n",
       "770                                      192.0   \n",
       "937                                      178.5   \n",
       "\n",
       "     Superplasticizer (component 5)(kg in a m^3 mixture)  \\\n",
       "134                                               11.6     \n",
       "13                                                 0.0     \n",
       "996                                                6.3     \n",
       "770                                                0.0     \n",
       "937                                                8.0     \n",
       "\n",
       "     Coarse Aggregate  (component 6)(kg in a m^3 mixture)  \\\n",
       "134                                              944.7      \n",
       "13                                               932.0      \n",
       "996                                             1001.8      \n",
       "770                                             1047.0      \n",
       "937                                             1001.9      \n",
       "\n",
       "     Fine Aggregate (component 7)(kg in a m^3 mixture)  Age (day)  \\\n",
       "134                                              755.8         28   \n",
       "13                                               670.0         90   \n",
       "996                                              683.9         28   \n",
       "770                                              806.0          3   \n",
       "937                                              688.7         28   \n",
       "\n",
       "     Concrete compressive strength(MPa, megapascals)   \n",
       "134                                             71.30  \n",
       "13                                              42.33  \n",
       "996                                             26.86  \n",
       "770                                             14.99  \n",
       "937                                             36.80  "
      ]
     },
     "execution_count": 8,
     "metadata": {},
     "output_type": "execute_result"
    }
   ],
   "source": [
    "X_train.head()"
   ]
  },
  {
   "cell_type": "markdown",
   "metadata": {
    "id": "CcvbbUpmJFCi"
   },
   "source": [
    "#Assigning features and target variable"
   ]
  },
  {
   "cell_type": "code",
   "execution_count": 9,
   "metadata": {
    "id": "OTv_VabYIj83"
   },
   "outputs": [],
   "source": [
    "Y_train = X_train.iloc[:,-1]\n",
    "X_train = X_train.iloc[:,0:-1]\n",
    "Y_test = X_test.iloc[:,-1]\n",
    "X_test = X_test.iloc[:,0:-1]"
   ]
  },
  {
   "cell_type": "code",
   "execution_count": 10,
   "metadata": {
    "id": "KHF-Yeo2JTyg"
   },
   "outputs": [],
   "source": [
    "X_mean = X_train.mean()\n",
    "X_train -= X_mean\n",
    "X_std = X_train.std()\n",
    "X_train /= X_std\n",
    "X_test -= X_mean\n",
    "X_test /= X_std"
   ]
  },
  {
   "cell_type": "code",
   "execution_count": 11,
   "metadata": {},
   "outputs": [],
   "source": [
    "Y_mean = Y_train.mean()\n",
    "Y_train -= Y_mean\n",
    "Y_std = Y_train.std()\n",
    "Y_train /= Y_std\n",
    "Y_test -= Y_mean\n",
    "Y_test /= Y_std"
   ]
  },
  {
   "cell_type": "code",
   "execution_count": 12,
   "metadata": {},
   "outputs": [
    {
     "data": {
      "text/plain": [
       "Cement (component 1)(kg in a m^3 mixture)                float64\n",
       "Blast Furnace Slag (component 2)(kg in a m^3 mixture)    float64\n",
       "Fly Ash (component 3)(kg in a m^3 mixture)               float64\n",
       "Water  (component 4)(kg in a m^3 mixture)                float64\n",
       "Superplasticizer (component 5)(kg in a m^3 mixture)      float64\n",
       "Coarse Aggregate  (component 6)(kg in a m^3 mixture)     float64\n",
       "Fine Aggregate (component 7)(kg in a m^3 mixture)        float64\n",
       "Age (day)                                                float64\n",
       "dtype: object"
      ]
     },
     "execution_count": 12,
     "metadata": {},
     "output_type": "execute_result"
    }
   ],
   "source": [
    "X_train.dtypes"
   ]
  },
  {
   "cell_type": "code",
   "execution_count": 13,
   "metadata": {},
   "outputs": [],
   "source": [
    "X_train = X_train.to_numpy()\n",
    "Y_train = Y_train.to_numpy()\n",
    "X_test = X_test.to_numpy()\n",
    "Y_test = Y_test.to_numpy()\n"
   ]
  },
  {
   "cell_type": "markdown",
   "metadata": {
    "id": "Lj_iCk5vL5E7"
   },
   "source": [
    "#Training and testing data splittion"
   ]
  },
  {
   "cell_type": "markdown",
   "metadata": {
    "id": "_LMH3tMeMbXN"
   },
   "source": [
    "#Model selection"
   ]
  },
  {
   "cell_type": "code",
   "execution_count": 35,
   "metadata": {
    "id": "N71E3GgCMTCO"
   },
   "outputs": [],
   "source": [
    "from tensorflow.keras import layers as L\n",
    "from tensorflow.keras import models as M"
   ]
  },
  {
   "cell_type": "code",
   "execution_count": 36,
   "metadata": {
    "id": "PZIj7pgIMhcg"
   },
   "outputs": [],
   "source": [
    "network = M.Sequential()"
   ]
  },
  {
   "cell_type": "code",
   "execution_count": 37,
   "metadata": {
    "id": "jcIypzdFMrDX"
   },
   "outputs": [],
   "source": [
    "network.add(L.Dense(128,activation=\"relu\",input_shape=(X_train.shape[1],)))"
   ]
  },
  {
   "cell_type": "code",
   "execution_count": 38,
   "metadata": {
    "id": "gl8qko4FM3j4"
   },
   "outputs": [],
   "source": [
    "network.add(L.Dense(64,activation=\"relu\"))"
   ]
  },
  {
   "cell_type": "code",
   "execution_count": 39,
   "metadata": {
    "id": "LQ2VEXd9M8Uw"
   },
   "outputs": [],
   "source": [
    "network.add(L.Dense(32,activation=\"relu\"))"
   ]
  },
  {
   "cell_type": "code",
   "execution_count": 40,
   "metadata": {
    "id": "yWUmN_KvNCno"
   },
   "outputs": [],
   "source": [
    "network.add(L.Dense(1))"
   ]
  },
  {
   "cell_type": "code",
   "execution_count": 41,
   "metadata": {
    "id": "zSyeoyk0Nsa2"
   },
   "outputs": [],
   "source": [
    "network.compile(optimizer=\"rmsprop\",loss=[\"mse\"],metrics=[\"mae\"])"
   ]
  },
  {
   "cell_type": "code",
   "execution_count": 42,
   "metadata": {
    "colab": {
     "base_uri": "https://localhost:8080/"
    },
    "id": "E8cCCFviOKuF",
    "outputId": "c6eebdfa-f576-4106-ec4b-38cba2572df0"
   },
   "outputs": [
    {
     "name": "stdout",
     "output_type": "stream",
     "text": [
      "Epoch 1/200\n",
      "32/32 [==============================] - 3s 14ms/step - loss: 0.7540 - mae: 0.6795 - val_loss: 0.4157 - val_mae: 0.5229\n",
      "Epoch 2/200\n",
      "32/32 [==============================] - 0s 5ms/step - loss: 0.3109 - mae: 0.4426 - val_loss: 0.3204 - val_mae: 0.4443\n",
      "Epoch 3/200\n",
      "32/32 [==============================] - 0s 5ms/step - loss: 0.2561 - mae: 0.4024 - val_loss: 0.2833 - val_mae: 0.4010\n",
      "Epoch 4/200\n",
      "32/32 [==============================] - 0s 5ms/step - loss: 0.1994 - mae: 0.3498 - val_loss: 0.2489 - val_mae: 0.3820\n",
      "Epoch 5/200\n",
      "32/32 [==============================] - 0s 5ms/step - loss: 0.1626 - mae: 0.3054 - val_loss: 0.2566 - val_mae: 0.3995\n",
      "Epoch 6/200\n",
      "32/32 [==============================] - 0s 5ms/step - loss: 0.1664 - mae: 0.3243 - val_loss: 0.2405 - val_mae: 0.3733\n",
      "Epoch 7/200\n",
      "32/32 [==============================] - 0s 5ms/step - loss: 0.1225 - mae: 0.2741 - val_loss: 0.2230 - val_mae: 0.3527\n",
      "Epoch 8/200\n",
      "32/32 [==============================] - 0s 7ms/step - loss: 0.1279 - mae: 0.2839 - val_loss: 0.2382 - val_mae: 0.3754\n",
      "Epoch 9/200\n",
      "32/32 [==============================] - 0s 5ms/step - loss: 0.1156 - mae: 0.2649 - val_loss: 0.2259 - val_mae: 0.3591\n",
      "Epoch 10/200\n",
      "32/32 [==============================] - 0s 5ms/step - loss: 0.1187 - mae: 0.2645 - val_loss: 0.2311 - val_mae: 0.3456\n",
      "Epoch 11/200\n",
      "32/32 [==============================] - 0s 5ms/step - loss: 0.0966 - mae: 0.2367 - val_loss: 0.1960 - val_mae: 0.3399\n",
      "Epoch 12/200\n",
      "32/32 [==============================] - 0s 5ms/step - loss: 0.0936 - mae: 0.2310 - val_loss: 0.1877 - val_mae: 0.3262\n",
      "Epoch 13/200\n",
      "32/32 [==============================] - 0s 5ms/step - loss: 0.0813 - mae: 0.2195 - val_loss: 0.1915 - val_mae: 0.3277\n",
      "Epoch 14/200\n",
      "32/32 [==============================] - 0s 5ms/step - loss: 0.0845 - mae: 0.2236 - val_loss: 0.1882 - val_mae: 0.3307\n",
      "Epoch 15/200\n",
      "32/32 [==============================] - 0s 5ms/step - loss: 0.0760 - mae: 0.2146 - val_loss: 0.1961 - val_mae: 0.3351\n",
      "Epoch 16/200\n",
      "32/32 [==============================] - 0s 5ms/step - loss: 0.0803 - mae: 0.2258 - val_loss: 0.1812 - val_mae: 0.3080\n",
      "Epoch 17/200\n",
      "32/32 [==============================] - 0s 5ms/step - loss: 0.0737 - mae: 0.2088 - val_loss: 0.1687 - val_mae: 0.2996\n",
      "Epoch 18/200\n",
      "32/32 [==============================] - 0s 5ms/step - loss: 0.0729 - mae: 0.1947 - val_loss: 0.1811 - val_mae: 0.3143\n",
      "Epoch 19/200\n",
      "32/32 [==============================] - 0s 5ms/step - loss: 0.0665 - mae: 0.1924 - val_loss: 0.1690 - val_mae: 0.3009\n",
      "Epoch 20/200\n",
      "32/32 [==============================] - 0s 5ms/step - loss: 0.0573 - mae: 0.1746 - val_loss: 0.2010 - val_mae: 0.3522\n",
      "Epoch 21/200\n",
      "32/32 [==============================] - 0s 4ms/step - loss: 0.0855 - mae: 0.2167 - val_loss: 0.2208 - val_mae: 0.3538\n",
      "Epoch 22/200\n",
      "32/32 [==============================] - 0s 5ms/step - loss: 0.0629 - mae: 0.1955 - val_loss: 0.1655 - val_mae: 0.3045\n",
      "Epoch 23/200\n",
      "32/32 [==============================] - 0s 5ms/step - loss: 0.0593 - mae: 0.1876 - val_loss: 0.1715 - val_mae: 0.3184\n",
      "Epoch 24/200\n",
      "32/32 [==============================] - 0s 5ms/step - loss: 0.0562 - mae: 0.1806 - val_loss: 0.1567 - val_mae: 0.2924\n",
      "Epoch 25/200\n",
      "32/32 [==============================] - 0s 5ms/step - loss: 0.0608 - mae: 0.1888 - val_loss: 0.1726 - val_mae: 0.3120\n",
      "Epoch 26/200\n",
      "32/32 [==============================] - 0s 5ms/step - loss: 0.0523 - mae: 0.1797 - val_loss: 0.1619 - val_mae: 0.3015\n",
      "Epoch 27/200\n",
      "32/32 [==============================] - 0s 5ms/step - loss: 0.0604 - mae: 0.1836 - val_loss: 0.1537 - val_mae: 0.2862\n",
      "Epoch 28/200\n",
      "32/32 [==============================] - 0s 5ms/step - loss: 0.0702 - mae: 0.1866 - val_loss: 0.1568 - val_mae: 0.2915\n",
      "Epoch 29/200\n",
      "32/32 [==============================] - 0s 6ms/step - loss: 0.0596 - mae: 0.1831 - val_loss: 0.1530 - val_mae: 0.2873\n",
      "Epoch 30/200\n",
      "32/32 [==============================] - 0s 6ms/step - loss: 0.0569 - mae: 0.1706 - val_loss: 0.1649 - val_mae: 0.2998\n",
      "Epoch 31/200\n",
      "32/32 [==============================] - 0s 5ms/step - loss: 0.0536 - mae: 0.1768 - val_loss: 0.1640 - val_mae: 0.2979\n",
      "Epoch 32/200\n",
      "32/32 [==============================] - 0s 5ms/step - loss: 0.0473 - mae: 0.1655 - val_loss: 0.1984 - val_mae: 0.3394\n",
      "Epoch 33/200\n",
      "32/32 [==============================] - 0s 5ms/step - loss: 0.0664 - mae: 0.1811 - val_loss: 0.1437 - val_mae: 0.2797\n",
      "Epoch 34/200\n",
      "32/32 [==============================] - 0s 5ms/step - loss: 0.0453 - mae: 0.1513 - val_loss: 0.1586 - val_mae: 0.3125\n",
      "Epoch 35/200\n",
      "32/32 [==============================] - 0s 6ms/step - loss: 0.0582 - mae: 0.1855 - val_loss: 0.1451 - val_mae: 0.2822\n",
      "Epoch 36/200\n",
      "32/32 [==============================] - 0s 6ms/step - loss: 0.0567 - mae: 0.1718 - val_loss: 0.1665 - val_mae: 0.3057\n",
      "Epoch 37/200\n",
      "32/32 [==============================] - 0s 5ms/step - loss: 0.0420 - mae: 0.1522 - val_loss: 0.1475 - val_mae: 0.2998\n",
      "Epoch 38/200\n",
      "32/32 [==============================] - 0s 5ms/step - loss: 0.0412 - mae: 0.1556 - val_loss: 0.1407 - val_mae: 0.2847\n",
      "Epoch 39/200\n",
      "32/32 [==============================] - 0s 4ms/step - loss: 0.0436 - mae: 0.1526 - val_loss: 0.1501 - val_mae: 0.2859\n",
      "Epoch 40/200\n",
      "32/32 [==============================] - 0s 5ms/step - loss: 0.0441 - mae: 0.1611 - val_loss: 0.1523 - val_mae: 0.2831\n",
      "Epoch 41/200\n",
      "32/32 [==============================] - 0s 6ms/step - loss: 0.0444 - mae: 0.1487 - val_loss: 0.1345 - val_mae: 0.2708\n",
      "Epoch 42/200\n",
      "32/32 [==============================] - 0s 5ms/step - loss: 0.0458 - mae: 0.1544 - val_loss: 0.1452 - val_mae: 0.2756\n",
      "Epoch 43/200\n",
      "32/32 [==============================] - 0s 5ms/step - loss: 0.0420 - mae: 0.1524 - val_loss: 0.1485 - val_mae: 0.2896\n",
      "Epoch 44/200\n",
      "32/32 [==============================] - 0s 6ms/step - loss: 0.0374 - mae: 0.1451 - val_loss: 0.1374 - val_mae: 0.2737\n",
      "Epoch 45/200\n",
      "32/32 [==============================] - 0s 5ms/step - loss: 0.0429 - mae: 0.1558 - val_loss: 0.1444 - val_mae: 0.2784\n",
      "Epoch 46/200\n",
      "32/32 [==============================] - 0s 4ms/step - loss: 0.0375 - mae: 0.1413 - val_loss: 0.1437 - val_mae: 0.2861\n",
      "Epoch 47/200\n",
      "32/32 [==============================] - 0s 5ms/step - loss: 0.0404 - mae: 0.1503 - val_loss: 0.1403 - val_mae: 0.2686\n",
      "Epoch 48/200\n",
      "32/32 [==============================] - 0s 5ms/step - loss: 0.0327 - mae: 0.1370 - val_loss: 0.1278 - val_mae: 0.2691\n",
      "Epoch 49/200\n",
      "32/32 [==============================] - 0s 5ms/step - loss: 0.0382 - mae: 0.1417 - val_loss: 0.1387 - val_mae: 0.2810\n",
      "Epoch 50/200\n",
      "32/32 [==============================] - 0s 5ms/step - loss: 0.0436 - mae: 0.1564 - val_loss: 0.1326 - val_mae: 0.2697\n",
      "Epoch 51/200\n",
      "32/32 [==============================] - 0s 5ms/step - loss: 0.0403 - mae: 0.1461 - val_loss: 0.1327 - val_mae: 0.2647\n",
      "Epoch 52/200\n",
      "32/32 [==============================] - 0s 5ms/step - loss: 0.0347 - mae: 0.1350 - val_loss: 0.1273 - val_mae: 0.2694\n",
      "Epoch 53/200\n",
      "32/32 [==============================] - 0s 6ms/step - loss: 0.0325 - mae: 0.1286 - val_loss: 0.1360 - val_mae: 0.2781\n",
      "Epoch 54/200\n",
      "32/32 [==============================] - 0s 5ms/step - loss: 0.0333 - mae: 0.1340 - val_loss: 0.1284 - val_mae: 0.2637\n",
      "Epoch 55/200\n",
      "32/32 [==============================] - 0s 5ms/step - loss: 0.0341 - mae: 0.1311 - val_loss: 0.1342 - val_mae: 0.2746\n",
      "Epoch 56/200\n",
      "32/32 [==============================] - 0s 4ms/step - loss: 0.0340 - mae: 0.1361 - val_loss: 0.1608 - val_mae: 0.2940\n",
      "Epoch 57/200\n",
      "32/32 [==============================] - 0s 5ms/step - loss: 0.0351 - mae: 0.1397 - val_loss: 0.1518 - val_mae: 0.2858\n",
      "Epoch 58/200\n",
      "32/32 [==============================] - 0s 5ms/step - loss: 0.0375 - mae: 0.1345 - val_loss: 0.1450 - val_mae: 0.2770\n",
      "Epoch 59/200\n",
      "32/32 [==============================] - 0s 6ms/step - loss: 0.0358 - mae: 0.1357 - val_loss: 0.1443 - val_mae: 0.2765\n",
      "Epoch 60/200\n",
      "32/32 [==============================] - 0s 5ms/step - loss: 0.0323 - mae: 0.1330 - val_loss: 0.1388 - val_mae: 0.2754\n",
      "Epoch 61/200\n",
      "32/32 [==============================] - 0s 6ms/step - loss: 0.0352 - mae: 0.1356 - val_loss: 0.1531 - val_mae: 0.2830\n",
      "Epoch 62/200\n",
      "32/32 [==============================] - 0s 5ms/step - loss: 0.0349 - mae: 0.1352 - val_loss: 0.1360 - val_mae: 0.2671\n",
      "Epoch 63/200\n",
      "32/32 [==============================] - 0s 5ms/step - loss: 0.0332 - mae: 0.1329 - val_loss: 0.1288 - val_mae: 0.2569\n",
      "Epoch 64/200\n",
      "32/32 [==============================] - 0s 5ms/step - loss: 0.0283 - mae: 0.1165 - val_loss: 0.1352 - val_mae: 0.2636\n",
      "Epoch 65/200\n",
      "32/32 [==============================] - 0s 5ms/step - loss: 0.0339 - mae: 0.1310 - val_loss: 0.1290 - val_mae: 0.2764\n",
      "Epoch 66/200\n",
      "32/32 [==============================] - 0s 6ms/step - loss: 0.0276 - mae: 0.1241 - val_loss: 0.1429 - val_mae: 0.2758\n",
      "Epoch 67/200\n",
      "32/32 [==============================] - 0s 6ms/step - loss: 0.0379 - mae: 0.1378 - val_loss: 0.1263 - val_mae: 0.2551\n",
      "Epoch 68/200\n",
      "32/32 [==============================] - 0s 5ms/step - loss: 0.0307 - mae: 0.1243 - val_loss: 0.1329 - val_mae: 0.2603\n",
      "Epoch 69/200\n",
      "32/32 [==============================] - 0s 5ms/step - loss: 0.0400 - mae: 0.1405 - val_loss: 0.1314 - val_mae: 0.2667\n",
      "Epoch 70/200\n",
      "32/32 [==============================] - 0s 6ms/step - loss: 0.0349 - mae: 0.1330 - val_loss: 0.1282 - val_mae: 0.2620\n",
      "Epoch 71/200\n",
      "32/32 [==============================] - 0s 5ms/step - loss: 0.0293 - mae: 0.1221 - val_loss: 0.1349 - val_mae: 0.2721\n",
      "Epoch 72/200\n",
      "32/32 [==============================] - 0s 5ms/step - loss: 0.0394 - mae: 0.1368 - val_loss: 0.1490 - val_mae: 0.2856\n",
      "Epoch 73/200\n",
      "32/32 [==============================] - 0s 6ms/step - loss: 0.0272 - mae: 0.1197 - val_loss: 0.1453 - val_mae: 0.2792\n",
      "Epoch 74/200\n",
      "32/32 [==============================] - 0s 4ms/step - loss: 0.0290 - mae: 0.1171 - val_loss: 0.1361 - val_mae: 0.2679\n",
      "Epoch 75/200\n",
      "32/32 [==============================] - 0s 6ms/step - loss: 0.0243 - mae: 0.1186 - val_loss: 0.1276 - val_mae: 0.2571\n",
      "Epoch 76/200\n",
      "32/32 [==============================] - 0s 5ms/step - loss: 0.0253 - mae: 0.1181 - val_loss: 0.1465 - val_mae: 0.2826\n",
      "Epoch 77/200\n",
      "32/32 [==============================] - 0s 5ms/step - loss: 0.0294 - mae: 0.1233 - val_loss: 0.1339 - val_mae: 0.2779\n",
      "Epoch 78/200\n",
      "32/32 [==============================] - 0s 5ms/step - loss: 0.0292 - mae: 0.1196 - val_loss: 0.1480 - val_mae: 0.2709\n",
      "Epoch 79/200\n",
      "32/32 [==============================] - 0s 4ms/step - loss: 0.0350 - mae: 0.1301 - val_loss: 0.1315 - val_mae: 0.2684\n",
      "Epoch 80/200\n",
      "32/32 [==============================] - 0s 5ms/step - loss: 0.0292 - mae: 0.1260 - val_loss: 0.1394 - val_mae: 0.2745\n",
      "Epoch 81/200\n",
      "32/32 [==============================] - 0s 5ms/step - loss: 0.0326 - mae: 0.1212 - val_loss: 0.1276 - val_mae: 0.2607\n",
      "Epoch 82/200\n",
      "32/32 [==============================] - 0s 4ms/step - loss: 0.0312 - mae: 0.1272 - val_loss: 0.1234 - val_mae: 0.2654\n",
      "Epoch 83/200\n",
      "32/32 [==============================] - 0s 6ms/step - loss: 0.0277 - mae: 0.1213 - val_loss: 0.1370 - val_mae: 0.2639\n",
      "Epoch 84/200\n",
      "32/32 [==============================] - 0s 5ms/step - loss: 0.0285 - mae: 0.1199 - val_loss: 0.1320 - val_mae: 0.2596\n",
      "Epoch 85/200\n",
      "32/32 [==============================] - 0s 4ms/step - loss: 0.0297 - mae: 0.1140 - val_loss: 0.1271 - val_mae: 0.2647\n",
      "Epoch 86/200\n",
      "32/32 [==============================] - 0s 5ms/step - loss: 0.0237 - mae: 0.1106 - val_loss: 0.1249 - val_mae: 0.2583\n",
      "Epoch 87/200\n",
      "32/32 [==============================] - 0s 5ms/step - loss: 0.0227 - mae: 0.1057 - val_loss: 0.1385 - val_mae: 0.2744\n",
      "Epoch 88/200\n",
      "32/32 [==============================] - 0s 4ms/step - loss: 0.0283 - mae: 0.1237 - val_loss: 0.1395 - val_mae: 0.2706\n",
      "Epoch 89/200\n",
      "32/32 [==============================] - 0s 6ms/step - loss: 0.0258 - mae: 0.1083 - val_loss: 0.1323 - val_mae: 0.2559\n",
      "Epoch 90/200\n",
      "32/32 [==============================] - 0s 5ms/step - loss: 0.0245 - mae: 0.1099 - val_loss: 0.1268 - val_mae: 0.2585\n",
      "Epoch 91/200\n",
      "32/32 [==============================] - 0s 5ms/step - loss: 0.0224 - mae: 0.1061 - val_loss: 0.1179 - val_mae: 0.2538\n",
      "Epoch 92/200\n",
      "32/32 [==============================] - 0s 8ms/step - loss: 0.0273 - mae: 0.1126 - val_loss: 0.1199 - val_mae: 0.2472\n",
      "Epoch 93/200\n",
      "32/32 [==============================] - 0s 6ms/step - loss: 0.0258 - mae: 0.1056 - val_loss: 0.1376 - val_mae: 0.2700\n",
      "Epoch 94/200\n",
      "32/32 [==============================] - 0s 6ms/step - loss: 0.0272 - mae: 0.1186 - val_loss: 0.1288 - val_mae: 0.2572\n",
      "Epoch 95/200\n",
      "32/32 [==============================] - 0s 5ms/step - loss: 0.0229 - mae: 0.1025 - val_loss: 0.1263 - val_mae: 0.2640\n",
      "Epoch 96/200\n",
      "32/32 [==============================] - 0s 5ms/step - loss: 0.0243 - mae: 0.1099 - val_loss: 0.1299 - val_mae: 0.2644\n",
      "Epoch 97/200\n",
      "32/32 [==============================] - 0s 6ms/step - loss: 0.0307 - mae: 0.1203 - val_loss: 0.1349 - val_mae: 0.2639\n",
      "Epoch 98/200\n",
      "32/32 [==============================] - 0s 6ms/step - loss: 0.0259 - mae: 0.1149 - val_loss: 0.1258 - val_mae: 0.2558\n",
      "Epoch 99/200\n",
      "32/32 [==============================] - 0s 6ms/step - loss: 0.0266 - mae: 0.1105 - val_loss: 0.1281 - val_mae: 0.2667\n",
      "Epoch 100/200\n",
      "32/32 [==============================] - 0s 6ms/step - loss: 0.0239 - mae: 0.1081 - val_loss: 0.1347 - val_mae: 0.2693\n",
      "Epoch 101/200\n",
      "32/32 [==============================] - 0s 5ms/step - loss: 0.0298 - mae: 0.1125 - val_loss: 0.1276 - val_mae: 0.2565\n",
      "Epoch 102/200\n",
      "32/32 [==============================] - 0s 5ms/step - loss: 0.0235 - mae: 0.1057 - val_loss: 0.1286 - val_mae: 0.2631\n",
      "Epoch 103/200\n",
      "32/32 [==============================] - 0s 5ms/step - loss: 0.0269 - mae: 0.1143 - val_loss: 0.1251 - val_mae: 0.2579\n",
      "Epoch 104/200\n",
      "32/32 [==============================] - 0s 5ms/step - loss: 0.0264 - mae: 0.1122 - val_loss: 0.1186 - val_mae: 0.2494\n",
      "Epoch 105/200\n",
      "32/32 [==============================] - 0s 6ms/step - loss: 0.0266 - mae: 0.1132 - val_loss: 0.1270 - val_mae: 0.2547\n",
      "Epoch 106/200\n",
      "32/32 [==============================] - 0s 6ms/step - loss: 0.0217 - mae: 0.0990 - val_loss: 0.1239 - val_mae: 0.2508\n",
      "Epoch 107/200\n",
      "32/32 [==============================] - 0s 6ms/step - loss: 0.0201 - mae: 0.0986 - val_loss: 0.1435 - val_mae: 0.2612\n",
      "Epoch 108/200\n",
      "32/32 [==============================] - 0s 5ms/step - loss: 0.0343 - mae: 0.1228 - val_loss: 0.1356 - val_mae: 0.2679\n",
      "Epoch 109/200\n",
      "32/32 [==============================] - 0s 5ms/step - loss: 0.0268 - mae: 0.1069 - val_loss: 0.1385 - val_mae: 0.2796\n",
      "Epoch 110/200\n",
      "32/32 [==============================] - 0s 5ms/step - loss: 0.0267 - mae: 0.1121 - val_loss: 0.1252 - val_mae: 0.2574\n",
      "Epoch 111/200\n",
      "32/32 [==============================] - 0s 5ms/step - loss: 0.0225 - mae: 0.1041 - val_loss: 0.1283 - val_mae: 0.2518\n",
      "Epoch 112/200\n",
      "32/32 [==============================] - 0s 9ms/step - loss: 0.0225 - mae: 0.0988 - val_loss: 0.1336 - val_mae: 0.2605\n",
      "Epoch 113/200\n",
      "32/32 [==============================] - 0s 7ms/step - loss: 0.0247 - mae: 0.1063 - val_loss: 0.1280 - val_mae: 0.2512\n",
      "Epoch 114/200\n",
      "32/32 [==============================] - 0s 7ms/step - loss: 0.0219 - mae: 0.0938 - val_loss: 0.1336 - val_mae: 0.2646\n",
      "Epoch 115/200\n",
      "32/32 [==============================] - 0s 7ms/step - loss: 0.0209 - mae: 0.1019 - val_loss: 0.1222 - val_mae: 0.2522\n",
      "Epoch 116/200\n",
      "32/32 [==============================] - 0s 7ms/step - loss: 0.0250 - mae: 0.1043 - val_loss: 0.1437 - val_mae: 0.2871\n",
      "Epoch 117/200\n",
      "32/32 [==============================] - 0s 6ms/step - loss: 0.0264 - mae: 0.1156 - val_loss: 0.1352 - val_mae: 0.2714\n",
      "Epoch 118/200\n",
      "32/32 [==============================] - 0s 7ms/step - loss: 0.0303 - mae: 0.1162 - val_loss: 0.1241 - val_mae: 0.2545\n",
      "Epoch 119/200\n",
      "32/32 [==============================] - 0s 8ms/step - loss: 0.0293 - mae: 0.1186 - val_loss: 0.1269 - val_mae: 0.2567\n",
      "Epoch 120/200\n",
      "32/32 [==============================] - 0s 6ms/step - loss: 0.0258 - mae: 0.1130 - val_loss: 0.1474 - val_mae: 0.2822\n",
      "Epoch 121/200\n",
      "32/32 [==============================] - 0s 7ms/step - loss: 0.0195 - mae: 0.0986 - val_loss: 0.1266 - val_mae: 0.2537\n",
      "Epoch 122/200\n",
      "32/32 [==============================] - 0s 8ms/step - loss: 0.0254 - mae: 0.1120 - val_loss: 0.1241 - val_mae: 0.2592\n",
      "Epoch 123/200\n",
      "32/32 [==============================] - 0s 6ms/step - loss: 0.0209 - mae: 0.1008 - val_loss: 0.1232 - val_mae: 0.2569\n",
      "Epoch 124/200\n",
      "32/32 [==============================] - 0s 7ms/step - loss: 0.0245 - mae: 0.1026 - val_loss: 0.1234 - val_mae: 0.2450\n"
     ]
    },
    {
     "name": "stdout",
     "output_type": "stream",
     "text": [
      "Epoch 125/200\n",
      "32/32 [==============================] - 0s 6ms/step - loss: 0.0245 - mae: 0.1047 - val_loss: 0.1230 - val_mae: 0.2483\n",
      "Epoch 126/200\n",
      "32/32 [==============================] - 0s 5ms/step - loss: 0.0259 - mae: 0.1049 - val_loss: 0.1343 - val_mae: 0.2628\n",
      "Epoch 127/200\n",
      "32/32 [==============================] - 0s 5ms/step - loss: 0.0295 - mae: 0.1099 - val_loss: 0.1233 - val_mae: 0.2543\n",
      "Epoch 128/200\n",
      "32/32 [==============================] - 0s 5ms/step - loss: 0.0235 - mae: 0.1017 - val_loss: 0.1184 - val_mae: 0.2459\n",
      "Epoch 129/200\n",
      "32/32 [==============================] - 0s 6ms/step - loss: 0.0234 - mae: 0.0986 - val_loss: 0.1222 - val_mae: 0.2459\n",
      "Epoch 130/200\n",
      "32/32 [==============================] - 0s 5ms/step - loss: 0.0258 - mae: 0.0999 - val_loss: 0.1221 - val_mae: 0.2512\n",
      "Epoch 131/200\n",
      "32/32 [==============================] - 0s 5ms/step - loss: 0.0176 - mae: 0.0931 - val_loss: 0.1282 - val_mae: 0.2583\n",
      "Epoch 132/200\n",
      "32/32 [==============================] - 0s 5ms/step - loss: 0.0223 - mae: 0.0951 - val_loss: 0.1265 - val_mae: 0.2516\n",
      "Epoch 133/200\n",
      "32/32 [==============================] - 0s 5ms/step - loss: 0.0219 - mae: 0.0972 - val_loss: 0.1271 - val_mae: 0.2612\n",
      "Epoch 134/200\n",
      "32/32 [==============================] - 0s 6ms/step - loss: 0.0222 - mae: 0.0975 - val_loss: 0.1443 - val_mae: 0.2788\n",
      "Epoch 135/200\n",
      "32/32 [==============================] - 0s 5ms/step - loss: 0.0206 - mae: 0.0978 - val_loss: 0.1204 - val_mae: 0.2526\n",
      "Epoch 136/200\n",
      "32/32 [==============================] - 0s 5ms/step - loss: 0.0229 - mae: 0.1002 - val_loss: 0.1257 - val_mae: 0.2621\n",
      "Epoch 137/200\n",
      "32/32 [==============================] - 0s 4ms/step - loss: 0.0198 - mae: 0.0937 - val_loss: 0.1517 - val_mae: 0.2851\n",
      "Epoch 138/200\n",
      "32/32 [==============================] - 0s 6ms/step - loss: 0.0277 - mae: 0.1145 - val_loss: 0.1283 - val_mae: 0.2606\n",
      "Epoch 139/200\n",
      "32/32 [==============================] - 0s 5ms/step - loss: 0.0237 - mae: 0.1007 - val_loss: 0.1303 - val_mae: 0.2585\n",
      "Epoch 140/200\n",
      "32/32 [==============================] - 0s 6ms/step - loss: 0.0221 - mae: 0.1025 - val_loss: 0.1214 - val_mae: 0.2546\n",
      "Epoch 141/200\n",
      "32/32 [==============================] - 0s 6ms/step - loss: 0.0258 - mae: 0.1071 - val_loss: 0.1206 - val_mae: 0.2454\n",
      "Epoch 142/200\n",
      "32/32 [==============================] - 0s 5ms/step - loss: 0.0230 - mae: 0.0977 - val_loss: 0.1291 - val_mae: 0.2617\n",
      "Epoch 143/200\n",
      "32/32 [==============================] - 0s 5ms/step - loss: 0.0236 - mae: 0.0968 - val_loss: 0.1235 - val_mae: 0.2546\n",
      "Epoch 144/200\n",
      "32/32 [==============================] - 0s 5ms/step - loss: 0.0200 - mae: 0.0935 - val_loss: 0.1480 - val_mae: 0.2933\n",
      "Epoch 145/200\n",
      "32/32 [==============================] - 0s 6ms/step - loss: 0.0194 - mae: 0.0956 - val_loss: 0.1359 - val_mae: 0.2550\n",
      "Epoch 146/200\n",
      "32/32 [==============================] - 0s 5ms/step - loss: 0.0343 - mae: 0.1173 - val_loss: 0.1326 - val_mae: 0.2711\n",
      "Epoch 147/200\n",
      "32/32 [==============================] - 0s 5ms/step - loss: 0.0239 - mae: 0.1031 - val_loss: 0.1290 - val_mae: 0.2580\n",
      "Epoch 148/200\n",
      "32/32 [==============================] - 0s 5ms/step - loss: 0.0247 - mae: 0.1052 - val_loss: 0.1383 - val_mae: 0.2726\n",
      "Epoch 149/200\n",
      "32/32 [==============================] - 0s 5ms/step - loss: 0.0210 - mae: 0.0997 - val_loss: 0.1334 - val_mae: 0.2615\n",
      "Epoch 150/200\n",
      "32/32 [==============================] - 0s 5ms/step - loss: 0.0233 - mae: 0.1006 - val_loss: 0.1253 - val_mae: 0.2554\n",
      "Epoch 151/200\n",
      "32/32 [==============================] - 0s 5ms/step - loss: 0.0210 - mae: 0.0928 - val_loss: 0.1497 - val_mae: 0.2920\n",
      "Epoch 152/200\n",
      "32/32 [==============================] - 0s 5ms/step - loss: 0.0244 - mae: 0.1105 - val_loss: 0.1209 - val_mae: 0.2506\n",
      "Epoch 153/200\n",
      "32/32 [==============================] - 0s 5ms/step - loss: 0.0256 - mae: 0.1018 - val_loss: 0.1224 - val_mae: 0.2506\n",
      "Epoch 154/200\n",
      "32/32 [==============================] - 0s 5ms/step - loss: 0.0296 - mae: 0.1094 - val_loss: 0.1262 - val_mae: 0.2605\n",
      "Epoch 155/200\n",
      "32/32 [==============================] - 0s 5ms/step - loss: 0.0189 - mae: 0.0900 - val_loss: 0.1187 - val_mae: 0.2489\n",
      "Epoch 156/200\n",
      "32/32 [==============================] - 0s 5ms/step - loss: 0.0238 - mae: 0.0978 - val_loss: 0.1157 - val_mae: 0.2504\n",
      "Epoch 157/200\n",
      "32/32 [==============================] - 0s 6ms/step - loss: 0.0165 - mae: 0.0838 - val_loss: 0.1216 - val_mae: 0.2481\n",
      "Epoch 158/200\n",
      "32/32 [==============================] - 0s 5ms/step - loss: 0.0210 - mae: 0.0975 - val_loss: 0.1240 - val_mae: 0.2496\n",
      "Epoch 159/200\n",
      "32/32 [==============================] - 0s 6ms/step - loss: 0.0261 - mae: 0.1009 - val_loss: 0.1212 - val_mae: 0.2455\n",
      "Epoch 160/200\n",
      "32/32 [==============================] - 0s 6ms/step - loss: 0.0186 - mae: 0.0937 - val_loss: 0.1193 - val_mae: 0.2492\n",
      "Epoch 161/200\n",
      "32/32 [==============================] - 0s 6ms/step - loss: 0.0217 - mae: 0.0993 - val_loss: 0.1177 - val_mae: 0.2438\n",
      "Epoch 162/200\n",
      "32/32 [==============================] - 0s 6ms/step - loss: 0.0200 - mae: 0.0968 - val_loss: 0.1346 - val_mae: 0.2715\n",
      "Epoch 163/200\n",
      "32/32 [==============================] - 0s 6ms/step - loss: 0.0254 - mae: 0.1002 - val_loss: 0.1198 - val_mae: 0.2442\n",
      "Epoch 164/200\n",
      "32/32 [==============================] - 0s 6ms/step - loss: 0.0194 - mae: 0.0938 - val_loss: 0.1221 - val_mae: 0.2423\n",
      "Epoch 165/200\n",
      "32/32 [==============================] - 0s 6ms/step - loss: 0.0183 - mae: 0.0893 - val_loss: 0.1322 - val_mae: 0.2587\n",
      "Epoch 166/200\n",
      "32/32 [==============================] - 0s 6ms/step - loss: 0.0212 - mae: 0.1027 - val_loss: 0.1232 - val_mae: 0.2519\n",
      "Epoch 167/200\n",
      "32/32 [==============================] - 0s 5ms/step - loss: 0.0146 - mae: 0.0831 - val_loss: 0.1330 - val_mae: 0.2629\n",
      "Epoch 168/200\n",
      "32/32 [==============================] - 0s 6ms/step - loss: 0.0214 - mae: 0.0940 - val_loss: 0.1229 - val_mae: 0.2446\n",
      "Epoch 169/200\n",
      "32/32 [==============================] - 0s 6ms/step - loss: 0.0189 - mae: 0.0927 - val_loss: 0.1246 - val_mae: 0.2552\n",
      "Epoch 170/200\n",
      "32/32 [==============================] - 0s 6ms/step - loss: 0.0261 - mae: 0.1037 - val_loss: 0.1227 - val_mae: 0.2472\n",
      "Epoch 171/200\n",
      "32/32 [==============================] - 0s 6ms/step - loss: 0.0203 - mae: 0.0961 - val_loss: 0.1183 - val_mae: 0.2506\n",
      "Epoch 172/200\n",
      "32/32 [==============================] - 0s 5ms/step - loss: 0.0196 - mae: 0.0946 - val_loss: 0.1301 - val_mae: 0.2601\n",
      "Epoch 173/200\n",
      "32/32 [==============================] - 0s 6ms/step - loss: 0.0200 - mae: 0.0943 - val_loss: 0.1190 - val_mae: 0.2504\n",
      "Epoch 174/200\n",
      "32/32 [==============================] - 0s 7ms/step - loss: 0.0213 - mae: 0.0945 - val_loss: 0.1226 - val_mae: 0.2467\n",
      "Epoch 175/200\n",
      "32/32 [==============================] - 0s 6ms/step - loss: 0.0169 - mae: 0.0893 - val_loss: 0.1342 - val_mae: 0.2711\n",
      "Epoch 176/200\n",
      "32/32 [==============================] - 0s 7ms/step - loss: 0.0197 - mae: 0.0938 - val_loss: 0.1238 - val_mae: 0.2487\n",
      "Epoch 177/200\n",
      "32/32 [==============================] - 0s 6ms/step - loss: 0.0167 - mae: 0.0855 - val_loss: 0.1287 - val_mae: 0.2492\n",
      "Epoch 178/200\n",
      "32/32 [==============================] - 0s 5ms/step - loss: 0.0164 - mae: 0.0822 - val_loss: 0.1247 - val_mae: 0.2489\n",
      "Epoch 179/200\n",
      "32/32 [==============================] - 0s 6ms/step - loss: 0.0181 - mae: 0.0876 - val_loss: 0.1184 - val_mae: 0.2426\n",
      "Epoch 180/200\n",
      "32/32 [==============================] - 0s 5ms/step - loss: 0.0170 - mae: 0.0882 - val_loss: 0.1234 - val_mae: 0.2459\n",
      "Epoch 181/200\n",
      "32/32 [==============================] - 0s 6ms/step - loss: 0.0207 - mae: 0.0909 - val_loss: 0.1184 - val_mae: 0.2379\n",
      "Epoch 182/200\n",
      "32/32 [==============================] - 0s 5ms/step - loss: 0.0205 - mae: 0.0934 - val_loss: 0.1213 - val_mae: 0.2545\n",
      "Epoch 183/200\n",
      "32/32 [==============================] - 0s 6ms/step - loss: 0.0181 - mae: 0.0899 - val_loss: 0.1286 - val_mae: 0.2718\n",
      "Epoch 184/200\n",
      "32/32 [==============================] - 0s 6ms/step - loss: 0.0184 - mae: 0.0926 - val_loss: 0.1281 - val_mae: 0.2585\n",
      "Epoch 185/200\n",
      "32/32 [==============================] - 0s 6ms/step - loss: 0.0199 - mae: 0.0926 - val_loss: 0.1268 - val_mae: 0.2490\n",
      "Epoch 186/200\n",
      "32/32 [==============================] - 0s 6ms/step - loss: 0.0184 - mae: 0.0872 - val_loss: 0.1281 - val_mae: 0.2554\n",
      "Epoch 187/200\n",
      "32/32 [==============================] - 0s 5ms/step - loss: 0.0192 - mae: 0.0898 - val_loss: 0.1356 - val_mae: 0.2639\n",
      "Epoch 188/200\n",
      "32/32 [==============================] - 0s 6ms/step - loss: 0.0162 - mae: 0.0952 - val_loss: 0.1253 - val_mae: 0.2435\n",
      "Epoch 189/200\n",
      "32/32 [==============================] - 0s 5ms/step - loss: 0.0183 - mae: 0.0872 - val_loss: 0.1330 - val_mae: 0.2623\n",
      "Epoch 190/200\n",
      "32/32 [==============================] - 0s 6ms/step - loss: 0.0215 - mae: 0.1003 - val_loss: 0.1224 - val_mae: 0.2419\n",
      "Epoch 191/200\n",
      "32/32 [==============================] - 0s 5ms/step - loss: 0.0163 - mae: 0.0853 - val_loss: 0.1239 - val_mae: 0.2563\n",
      "Epoch 192/200\n",
      "32/32 [==============================] - ETA: 0s - loss: 0.0162 - mae: 0.087 - 0s 5ms/step - loss: 0.0170 - mae: 0.0897 - val_loss: 0.1273 - val_mae: 0.2569\n",
      "Epoch 193/200\n",
      "32/32 [==============================] - 0s 5ms/step - loss: 0.0190 - mae: 0.0923 - val_loss: 0.1261 - val_mae: 0.2490\n",
      "Epoch 194/200\n",
      "32/32 [==============================] - 0s 5ms/step - loss: 0.0166 - mae: 0.0846 - val_loss: 0.1371 - val_mae: 0.2655\n",
      "Epoch 195/200\n",
      "32/32 [==============================] - 0s 7ms/step - loss: 0.0215 - mae: 0.0927 - val_loss: 0.1151 - val_mae: 0.2421\n",
      "Epoch 196/200\n",
      "32/32 [==============================] - 0s 5ms/step - loss: 0.0211 - mae: 0.0916 - val_loss: 0.1178 - val_mae: 0.2508\n",
      "Epoch 197/200\n",
      "32/32 [==============================] - 0s 5ms/step - loss: 0.0184 - mae: 0.0856 - val_loss: 0.1383 - val_mae: 0.2729\n",
      "Epoch 198/200\n",
      "32/32 [==============================] - 0s 6ms/step - loss: 0.0174 - mae: 0.0908 - val_loss: 0.1262 - val_mae: 0.2448\n",
      "Epoch 199/200\n",
      "32/32 [==============================] - 0s 5ms/step - loss: 0.0168 - mae: 0.0851 - val_loss: 0.1204 - val_mae: 0.2450\n",
      "Epoch 200/200\n",
      "32/32 [==============================] - 0s 5ms/step - loss: 0.0182 - mae: 0.0892 - val_loss: 0.1222 - val_mae: 0.2456\n"
     ]
    }
   ],
   "source": [
    "history = network.fit(X_train,Y_train,epochs=200,validation_split=0.3, batch_size = 16)"
   ]
  },
  {
   "cell_type": "code",
   "execution_count": 43,
   "metadata": {},
   "outputs": [
    {
     "data": {
      "text/plain": [
       "dict_keys(['loss', 'mae', 'val_loss', 'val_mae'])"
      ]
     },
     "execution_count": 43,
     "metadata": {},
     "output_type": "execute_result"
    }
   ],
   "source": [
    "history.history.keys()"
   ]
  },
  {
   "cell_type": "code",
   "execution_count": 44,
   "metadata": {
    "colab": {
     "base_uri": "https://localhost:8080/"
    },
    "id": "Dke-NeOQtJ7Z",
    "outputId": "c747742c-a35c-489d-910c-49aec973df25"
   },
   "outputs": [
    {
     "name": "stdout",
     "output_type": "stream",
     "text": [
      "10/10 [==============================] - 0s 2ms/step - loss: 0.1221 - mae: 0.2279\n"
     ]
    }
   ],
   "source": [
    "loss,mae=network.evaluate(X_test,Y_test)"
   ]
  },
  {
   "cell_type": "code",
   "execution_count": 45,
   "metadata": {
    "colab": {
     "base_uri": "https://localhost:8080/"
    },
    "id": "CtycpTWetRiZ",
    "outputId": "c3c53923-6128-448f-a0ac-68b30a6eabaa"
   },
   "outputs": [],
   "source": [
    "val_mae = history.history['val_mae']\n",
    "val_loss = history.history['val_loss']"
   ]
  },
  {
   "cell_type": "code",
   "execution_count": 46,
   "metadata": {},
   "outputs": [
    {
     "data": {
      "image/png": "[encoded data removed]",
      "text/plain": [
       "<Figure size 432x288 with 1 Axes>"
      ]
     },
     "metadata": {
      "needs_background": "light"
     },
     "output_type": "display_data"
    }
   ],
   "source": [
    "import matplotlib.pyplot as plt \n",
    "history_dict = history.history\n",
    "loss_values = history_dict['loss']\n",
    "val_loss_values = history_dict['val_loss']\n",
    "epochs = range(200)\n",
    "plt.plot(epochs, loss_values, 'bo', label='Training loss')\n",
    "plt.plot(epochs, val_loss_values, 'b', label='Validation loss')\n",
    "plt.title('Training and validation loss')\n",
    "plt.xlabel('Epochs')\n",
    "plt.ylabel('Loss')\n",
    "plt.legend()\n",
    "plt.show()"
   ]
  },
  {
   "cell_type": "code",
   "execution_count": 47,
   "metadata": {},
   "outputs": [
    {
     "data": {
      "image/png": "[encoded data removed]",
      "text/plain": [
       "<Figure size 432x288 with 1 Axes>"
      ]
     },
     "metadata": {
      "needs_background": "light"
     },
     "output_type": "display_data"
    }
   ],
   "source": [
    "import matplotlib.pyplot as plt \n",
    "acc_values = history_dict['mae']\n",
    "val_acc_values = history_dict['val_mae']\n",
    "plt.plot(epochs, acc_values, 'bo', label='Training mae')\n",
    "plt.plot(epochs, val_acc_values, 'b', label='Validation mae')\n",
    "plt.title('Training and validation accuracy')\n",
    "plt.xlabel('Epochs')\n",
    "plt.ylabel('mae')\n",
    "plt.legend()\n",
    "plt.show()"
   ]
  },
  {
   "cell_type": "code",
   "execution_count": 48,
   "metadata": {
    "id": "AiZJuEX1tXIa"
   },
   "outputs": [],
   "source": [
    "y_pred = network.predict(X_test)"
   ]
  },
  {
   "cell_type": "code",
   "execution_count": null,
   "metadata": {},
   "outputs": [],
   "source": []
  },
  {
   "cell_type": "code",
   "execution_count": 49,
   "metadata": {},
   "outputs": [],
   "source": [
    "def denorm(x):\n",
    "    return (x * Y_std) + Y_mean\n",
    "    "
   ]
  },
  {
   "cell_type": "code",
   "execution_count": 50,
   "metadata": {},
   "outputs": [],
   "source": [
    "y_pred = denorm(y_pred)"
   ]
  },
  {
   "cell_type": "code",
   "execution_count": 51,
   "metadata": {},
   "outputs": [],
   "source": [
    "y_true = denorm(Y_test)"
   ]
  },
  {
   "cell_type": "code",
   "execution_count": 52,
   "metadata": {},
   "outputs": [],
   "source": [
    "y_pred = y_pred.flatten()"
   ]
  },
  {
   "cell_type": "code",
   "execution_count": 53,
   "metadata": {},
   "outputs": [
    {
     "data": {
      "text/plain": [
       "(309,)"
      ]
     },
     "execution_count": 53,
     "metadata": {},
     "output_type": "execute_result"
    }
   ],
   "source": [
    "y_pred.shape"
   ]
  },
  {
   "cell_type": "code",
   "execution_count": 54,
   "metadata": {},
   "outputs": [
    {
     "data": {
      "text/plain": [
       "(309,)"
      ]
     },
     "execution_count": 54,
     "metadata": {},
     "output_type": "execute_result"
    }
   ],
   "source": [
    "y_true.shape"
   ]
  },
  {
   "cell_type": "code",
   "execution_count": 55,
   "metadata": {},
   "outputs": [
    {
     "data": {
      "text/plain": [
       "(0.0, 100.0)"
      ]
     },
     "execution_count": 55,
     "metadata": {},
     "output_type": "execute_result"
    },
    {
     "data": {
      "image/png": "[encoded data removed]",
      "text/plain": [
       "<Figure size 432x288 with 1 Axes>"
      ]
     },
     "metadata": {
      "needs_background": "light"
     },
     "output_type": "display_data"
    }
   ],
   "source": [
    "import numpy as np\n",
    "import matplotlib.pyplot as plt\n",
    "coef = np.polyfit(y_true,y_pred,1)\n",
    "poly1d_fn = np.poly1d(coef) \n",
    "# poly1d_fn is now a function which takes in x and returns an estimate for y\n",
    "plt.plot(y_true,y_pred, 'yo', y_true, poly1d_fn(y_true), '--k')\n",
    "plt.xlim(0, 100)\n",
    "plt.ylim(0, 100)"
   ]
  }
 ],
 "metadata": {
  "accelerator": "TPU",
  "colab": {
   "collapsed_sections": [],
   "name": "Concrete.ipynb",
   "provenance": [],
   "toc_visible": true
  },
  "kernelspec": {
   "display_name": "Python 3",
   "language": "python",
   "name": "python3"
  },
  "language_info": {
   "codemirror_mode": {
    "name": "ipython",
    "version": 3
   },
   "file_extension": ".py",
   "mimetype": "text/x-python",
   "name": "python",
   "nbconvert_exporter": "python",
   "pygments_lexer": "ipython3",
   "version": "3.8.8"
  }
 },
 "nbformat": 4,
 "nbformat_minor": 1
}
